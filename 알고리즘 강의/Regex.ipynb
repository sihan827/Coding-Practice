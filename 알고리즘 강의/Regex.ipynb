{
 "cells": [
  {
   "cell_type": "markdown",
   "metadata": {},
   "source": [
    "# 정규표현식"
   ]
  },
  {
   "cell_type": "markdown",
   "metadata": {},
   "source": [
    "|표현식|의미|\n",
    "|-------|-------------------------------------------------------|\n",
    "| ^x | 문자열의 시작을 표현, x로 시작됨을 의미 |\n",
    "| x$ | 문자열의 종료를 표현, x로 끝남을 의미 |\n",
    "| .x | 임의의 한 문자의 자리수를 표현, x로 끝남을 의미 |\n",
    "| x+ | 반복을 표현, x가 한번 이상 반복됨을 의미 |\n",
    "| x? | 존재여부를 표현, x가 있을 수도, 없을 수도 있음을 의미 |\n",
    "| x* | 반복을 표현, x가 0번 또는 그 이상 반복됨을 의미 |\n",
    "| x\\|y | OR을 표현, x 또는 y가 존재함을 의미 |\n",
    "| (x) | 그룹을 표현, x를 그룹으로 처리함을 의미 |\n",
    "| (x)(y) | 그룹들의 집합을 표현, 앞에서부터 순서대로 번호를 부여하고 관리 |\n",
    "| (?:x) | 그룹들의 집합에 대한 예외를 표현, x는 그룹으로 관리되지 않음을 의미 |\n",
    "| x{n} | 반복을 표현, x가 n번 반복됨을 의미 |\n",
    "| x{n,} | 반복을 표현, x가 n번 이상 반복됨을 의미 |\n",
    "| x{n, m} | 반복을 표현, x가 n번 이상 m번 이하 반복됨을 의미 |\n",
    "| [xy] | 문자 선택을 표현, x와 y중 하나를 의미 |\n",
    "| [^xy] | not을 표현, x 및 y를 제외한 문자를 의미 |\n",
    "| [x-z] | range를 표현, x ~ z 사이의 문자를 의미 |\n",
    "| \\\\^ | escape를 표현, ^를 문자로 사용함을 의미 |\n",
    "| \\b | word boundary를 표현, 문자와 공백사이의 문자를 의미 |\n",
    "| \\B | non word boundary를 표현, 문자와 공백사이가 아닌 문자를 의미 |\n",
    "| \\d | digit을 표현, 숫자를 의미 |\n",
    "| \\D | non digit을 표현, 숫자가 아닌 것을 의미 |\n",
    "| \\s | space를 표현, 공백 문자를 의미 |\n",
    "| \\S | non space를 표현, 공백 문자가 아닌 것을 의미 |\n",
    "| \\t | tab을 표현, 탭 문자를 의미 |\n",
    "| \\v | vertical tab을 표현, 수직 탭 문자를 의미 |\n",
    "| \\w | word를 표현, 알파벳, 숫자, _ 중의 한 문자를 의미 |\n",
    "| \\W | non word를 표현, 알파벳, 숫자, _가 아닌 문자를 의미 |"
   ]
  },
  {
   "cell_type": "markdown",
   "metadata": {},
   "source": [
    "## 파이썬 정규표현식 사용"
   ]
  },
  {
   "cell_type": "code",
   "execution_count": null,
   "metadata": {},
   "outputs": [],
   "source": [
    "import re\n",
    "\n",
    "## 정규표현식 객체 컴파일\n",
    "## 일반 정규식과 파이썬에서의 정규식 혼동 방지를 위해 r 키워드를 정규표현식 앞에 붙임\n",
    "p = re.compile(r'ab*')\n",
    "\n",
    "## match : 문자열의 시작 부분에서 정규식이 일치하는지 확인\n",
    "p.match(r\"a\")\n",
    "\n",
    "## search : 문자열을 훑으면서 정규식이 일치하는지 확인\n",
    "p.search(r\"a\")\n",
    "\n",
    "## findall : 정규식과 일치하는 모든 부분문자열을 확인\n",
    "p.search(r\"a\")\n",
    "\n",
    "## finditer : 정규식과 일치하는 모든 부분문자열을 찾아 이터레이터로 반환\n",
    "p.finditer(r\"a\")\n",
    "\n",
    "##fullmatch : 문자열이 정규식과 전부 일치하는지 확인\n",
    "p.fullmatch(r\"a\")"
   ]
  }
 ],
 "metadata": {
  "kernelspec": {
   "display_name": "base",
   "language": "python",
   "name": "python3"
  },
  "language_info": {
   "name": "python",
   "version": "3.9.13"
  }
 },
 "nbformat": 4,
 "nbformat_minor": 2
}
