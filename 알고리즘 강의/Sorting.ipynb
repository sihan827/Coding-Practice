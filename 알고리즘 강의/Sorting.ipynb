{
 "cells": [
  {
   "cell_type": "markdown",
   "metadata": {},
   "source": [
    "# 정렬 알고리즘"
   ]
  },
  {
   "cell_type": "markdown",
   "metadata": {},
   "source": [
    "## 선택 정렬 (Selection Sort)\n",
    "- 첫번째 원소부터 순회해가며 최솟값 찾아서 앞으로 보내기\n",
    "- 두번째 원소부터 순회해가며 최솟값 찾아서 앞으로 보내기\n",
    "- 이를 마지막 원소까지 반복\n",
    "- 시간복잡도는 $O(N^2)$"
   ]
  },
  {
   "cell_type": "code",
   "execution_count": 5,
   "metadata": {},
   "outputs": [
    {
     "name": "stdout",
     "output_type": "stream",
     "text": [
      "[1, 2, 3, 4, 5, 6, 7, 8, 9, 10]\n"
     ]
    }
   ],
   "source": [
    "arr = [1, 5, 3, 7, 6, 2, 10, 8, 9, 4]\n",
    "for i in range(len(arr)):\n",
    "    min = float(\"inf\")\n",
    "    for j in range(i, len(arr)):\n",
    "        # 최솟값 찾기\n",
    "        if min > arr[j]:\n",
    "            min = arr[j]\n",
    "            idx = j\n",
    "        \n",
    "    # 스와핑 페이즈\n",
    "    tmp = arr[i]\n",
    "    arr[i] = arr[idx]\n",
    "    arr[idx] = tmp\n",
    "\n",
    "print(arr)"
   ]
  },
  {
   "cell_type": "markdown",
   "metadata": {},
   "source": [
    "## 버블 정렬 (Bubble Sort)\n",
    "- N번째 원소까지 바로 옆의 값과 비교하여 작으면 앞으로 보내기\n",
    "- N-1번째 원소까지 바로 옆의 값과 비교하여 작으면 앞으로 보내기\n",
    "- 이를 첫번째 원소까지 반복\n",
    "- 결국 매 루프마다 구간의 최댓값이 맨 뒤로 이동\n",
    "- 루프마다 배열의 원소들을 교체해줘야 되기 때문에 정렬 알고리즘 중에서는 가장 비효율적\n",
    "- 시간복잡도는 $O(N^2)$"
   ]
  },
  {
   "cell_type": "code",
   "execution_count": 8,
   "metadata": {},
   "outputs": [
    {
     "name": "stdout",
     "output_type": "stream",
     "text": [
      "[1, 2, 3, 4, 5, 6, 7, 8, 9, 10]\n"
     ]
    }
   ],
   "source": [
    "arr = [1, 5, 3, 7, 6, 2, 10, 8, 9, 4]\n",
    "for i in range(len(arr)):\n",
    "    for j in range(len(arr) - i - 1):\n",
    "        # 바로 옆의 원소와 비교\n",
    "        if arr[j] > arr[j + 1]:\n",
    "            # 스와핑 페이즈\n",
    "            tmp = arr[j]\n",
    "            arr[j] = arr[j + 1]\n",
    "            arr[j + 1] = tmp\n",
    "\n",
    "print(arr)"
   ]
  },
  {
   "cell_type": "markdown",
   "metadata": {},
   "source": [
    "## 삽입 정렬 (Insertion Sort)\n",
    "- i번째 원소를 그 앞의 원소들과 비교해서 들어갈 위치를 찾고 그 위치에 삽입\n",
    "- 이를 전체 원소에 대해 반복\n",
    "- 시간복잡도는 $O(N^2)$"
   ]
  },
  {
   "cell_type": "code",
   "execution_count": 9,
   "metadata": {},
   "outputs": [
    {
     "name": "stdout",
     "output_type": "stream",
     "text": [
      "[1, 2, 3, 4, 5, 6, 7, 8, 9, 10]\n"
     ]
    }
   ],
   "source": [
    "arr = [1, 5, 3, 7, 6, 2, 10, 8, 9, 4]\n",
    "for i in range(len(arr) - 1):\n",
    "    j = i\n",
    "    while arr[j] > arr[j + 1]:\n",
    "        tmp = arr[j + 1]\n",
    "        arr[j + 1] = arr[j]\n",
    "        arr[j] = tmp\n",
    "        j -= 1\n",
    "\n",
    "print(arr)"
   ]
  }
 ],
 "metadata": {
  "kernelspec": {
   "display_name": "base",
   "language": "python",
   "name": "python3"
  },
  "language_info": {
   "codemirror_mode": {
    "name": "ipython",
    "version": 3
   },
   "file_extension": ".py",
   "mimetype": "text/x-python",
   "name": "python",
   "nbconvert_exporter": "python",
   "pygments_lexer": "ipython3",
   "version": "3.9.13"
  }
 },
 "nbformat": 4,
 "nbformat_minor": 2
}
